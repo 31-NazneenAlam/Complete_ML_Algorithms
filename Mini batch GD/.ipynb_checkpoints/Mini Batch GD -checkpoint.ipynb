{
 "cells": [
  {
   "cell_type": "code",
   "execution_count": 1,
   "metadata": {},
   "outputs": [],
   "source": [
    "import numpy as np\n",
    "import matplotlib.pyplot as plt\n",
    "from sklearn.datasets import load_boston\n",
    "from sklearn.datasets import make_regression"
   ]
  },
  {
   "cell_type": "code",
   "execution_count": 2,
   "metadata": {},
   "outputs": [],
   "source": [
    "X,Y = make_regression(n_samples = 10000,n_features = 20,n_informative = 20,noise = 10,random_state = 1)"
   ]
  },
  {
   "cell_type": "code",
   "execution_count": 3,
   "metadata": {},
   "outputs": [],
   "source": [
    "#Normalization\n",
    "mean = np.mean(X,axis = 0)\n",
    "std = np.std(X,axis = 0)\n",
    "\n",
    "X = (X-mean)/std"
   ]
  },
  {
   "cell_type": "code",
   "execution_count": 4,
   "metadata": {},
   "outputs": [
    {
     "name": "stdout",
     "output_type": "stream",
     "text": [
      "(10000, 21)\n",
      "(10000,)\n"
     ]
    }
   ],
   "source": [
    "#Adding a col of 1s for vectorization\n",
    "ones = np.ones((X.shape[0],1))\n",
    "X = np.hstack((ones,X))\n",
    "print(X.shape)\n",
    "print(Y.shape)"
   ]
  },
  {
   "cell_type": "code",
   "execution_count": 5,
   "metadata": {},
   "outputs": [],
   "source": [
    "def hypothesis(X,theta):\n",
    "    return np.dot(X,theta)\n",
    "\n",
    "def error(X,Y,theta):\n",
    "    e = 0.0\n",
    "    m = X.shape[0]\n",
    "    y_ = hypothesis(X,theta)\n",
    "    e = np.sum((Y-y_)**2)\n",
    "    \n",
    "    return e/m\n",
    "\n",
    "def gradient(X,Y,theta):\n",
    "    \n",
    "    y_ = hypothesis(X,theta)\n",
    "    grad = np.dot(X.T,(y_ - Y))\n",
    "    m = X.shape[0]\n",
    "    \n",
    "    return grad/m\n",
    "\n",
    "#Batch GD\n",
    "def gradientDescent(X,Y,lr=0.01,max_iters=300):\n",
    "    \n",
    "    n = X.shape[1]\n",
    "    theta = np.zeros((n,))\n",
    "    err_list = []\n",
    "    \n",
    "    for i in range(max_iters):\n",
    "        \n",
    "        e = error(X,Y,theta)\n",
    "        err_list.append(e)\n",
    "        \n",
    "        #Batch Gradient descent (wrt entire dataset)\n",
    "        grad = gradient(X,Y,theta)\n",
    "        theta = theta - lr*grad\n",
    "        \n",
    "    return theta,err_list  "
   ]
  },
  {
   "cell_type": "code",
   "execution_count": 6,
   "metadata": {},
   "outputs": [
    {
     "data": {
      "image/png": "[encoded data removed]",
      "text/plain": [
       "<Figure size 432x288 with 1 Axes>"
      ]
     },
     "metadata": {
      "needs_background": "light"
     },
     "output_type": "display_data"
    }
   ],
   "source": [
    "#Batch GD -300 iterations ,lr = 0.01\n",
    "theta,err_list = gradientDescent(X,Y)\n",
    "  \n",
    "plt.figure()\n",
    "plt.plot(np.arange(len(err_list)),err_list)\n",
    "plt.show()"
   ]
  },
  {
   "cell_type": "code",
   "execution_count": 7,
   "metadata": {},
   "outputs": [],
   "source": [
    "def batch_gradient_descent(X,Y,batch_size=200,lr=0.01,max_iters=100):\n",
    "    n = X.shape[1]\n",
    "    theta = np.zeros((n,))\n",
    "    err_list = []\n",
    "    \n",
    "    data = np.hstack((X,Y.reshape(-1,1)))\n",
    "    \n",
    "    for i in range(max_iters):\n",
    "        \n",
    "        e = error(X,Y,theta)\n",
    "        err_list.append(e)\n",
    "        \n",
    "        #Mini Batch Gradient descent  \n",
    "        np.random.shuffle(data)\n",
    "        m = data.shape[0]\n",
    "        total_batches = m//batch_size\n",
    "        \n",
    "        for i in range(total_batches):\n",
    "            batch_data = data[i*batch_size : (i+1)*batch_size, :]\n",
    "            \n",
    "            x_batch = batch_data[:,:-1]\n",
    "            y_batch = batch_data[:,-1]\n",
    "            \n",
    "            batch_gradient = gradient(x_batch,y_batch,theta)\n",
    "            theta = theta - lr*batch_gradient\n",
    "        \n",
    "        \n",
    "    return theta,err_list  "
   ]
  },
  {
   "cell_type": "code",
   "execution_count": 8,
   "metadata": {},
   "outputs": [
    {
     "data": {
      "image/png": "[encoded data removed]",
      "text/plain": [
       "<Figure size 432x288 with 1 Axes>"
      ]
     },
     "metadata": {
      "needs_background": "light"
     },
     "output_type": "display_data"
    }
   ],
   "source": [
    "#Mini batch GD\n",
    "theta,err_list = batch_gradient_descent(X,Y)\n",
    "\n",
    "plt.figure()\n",
    "plt.plot(np.arange(len(err_list)),err_list)\n",
    "plt.show()"
   ]
  },
  {
   "cell_type": "code",
   "execution_count": null,
   "metadata": {},
   "outputs": [],
   "source": []
  }
 ],
 "metadata": {
  "kernelspec": {
   "display_name": "Python 3",
   "language": "python",
   "name": "python3"
  },
  "language_info": {
   "codemirror_mode": {
    "name": "ipython",
    "version": 3
   },
   "file_extension": ".py",
   "mimetype": "text/x-python",
   "name": "python",
   "nbconvert_exporter": "python",
   "pygments_lexer": "ipython3",
   "version": "3.7.4"
  }
 },
 "nbformat": 4,
 "nbformat_minor": 4
}
